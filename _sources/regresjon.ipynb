{
 "cells": [
  {
   "cell_type": "markdown",
   "metadata": {},
   "source": [
    "# Regresjon med Python\n",
    "\n",
    "Du har kanskje tidligere gjort regresjoner med GeoGebra. Det vil si at du for eksempel har funnet en linje (eller annen type graf) som passer «best» med ulike punkt i koordinatsystemet. Slike regresjoner kan vi også gjøre med Python. \n",
    "\n",
    "Vi skal se på to måter å gjøre dette på. Den ene er å bruke nympy sin polyfit-funksjon. Den andre metoden er å bruke scipy.optimize sin curve_fit-funksjon. "
   ]
  },
  {
   "cell_type": "markdown",
   "metadata": {},
   "source": [
    "## numpy sin polyfit"
   ]
  },
  {
   "cell_type": "markdown",
   "metadata": {},
   "source": [
    "### Eksempel 1\n",
    "\n",
    "Fem personer har gjennomført en såkalt makspulstest. Resultatet ser du i tabellen nedenfor. \n",
    "\n",
    "| Alder    |  17 |  25 |  37 |  48 |  60 |\n",
    "|----------|----:|----:|----:|----:|----:|\n",
    "| Makspuls | 195 | 189 | 183 | 175 | 166 |\n",
    "\n",
    "Finn en lineær sammenheng mellom alder ($x$) og makspuls ($y$). \n",
    "\n",
    "**Løsning**"
   ]
  },
  {
   "cell_type": "code",
   "execution_count": 2,
   "metadata": {},
   "outputs": [
    {
     "name": "stdout",
     "output_type": "stream",
     "text": [
      "[ -0.6605766  206.30556487]\n"
     ]
    }
   ],
   "source": [
    "import numpy as np\n",
    "x = [17, 25, 37, 48, 60]\n",
    "y = [195, 189, 183, 175, 166]\n",
    "L = np.polyfit(x, y, 1)\n",
    "print(L)"
   ]
  },
  {
   "cell_type": "markdown",
   "metadata": {},
   "source": [
    "Her får vi en liste som svar på oppgaven. Tallene i denne listen er koeffisienten til den linære funksjonen \n",
    "\n",
    "$$y=ax+b$$\n",
    "\n",
    "Det vil si at\n",
    "\n",
    "$$\n",
    "\\begin{align*}\n",
    " a&=-0.6605766 \\\\\n",
    " b&=206.30556487    \n",
    "\\end{align*}\n",
    "$$\n",
    "\n",
    "Vi ønsker å plotte dataene fra tabellen sammen med grafen til den lineære funksjonen. "
   ]
  },
  {
   "cell_type": "code",
   "execution_count": 3,
   "metadata": {},
   "outputs": [
    {
     "data": {
      "image/png": "[encoded data removed]",
      "text/plain": [
       "<Figure size 432x288 with 1 Axes>"
      ]
     },
     "metadata": {
      "needs_background": "light"
     },
     "output_type": "display_data"
    }
   ],
   "source": [
    "import matplotlib.pyplot as plt\n",
    "\n",
    "def f(x):\n",
    "    return L[0]*x + L[1]  # den lineære modellen\n",
    "\n",
    "X = np.linspace(0, 70, 20) # x-verdier (trenger egenlit bare to stk... ) \n",
    "\n",
    "# Først spredningsplottet (punktene fra tabellen):\n",
    "\n",
    "plt.scatter(x, y, color='red')\n",
    "\n",
    "# Så den lineære modellen:\n",
    "plt.plot(X, f(X), color='blue')\n",
    "\n",
    "plt.xlabel(\"Alder\")\n",
    "plt.ylabel(\"Makspuls\")\n",
    "\n",
    "plt.show()\n"
   ]
  },
  {
   "cell_type": "markdown",
   "metadata": {},
   "source": [
    "### Oppgave 1\n",
    "\n",
    "\n",
    "Tabellen ovanfor viser kor mange personar som deltok i eit mosjonsløp i\n",
    "åra 2000, 2005, 2010, 2015 og 2020.\n",
    "\n",
    "| År               | 2000 | 2005 | 2010 | 2015 | 2020 |\n",
    "|------------------|-----:|-----:|-----:|-----:|-----:|\n",
    "| Antall deltakere |   35 |  152 |  240 |  338 |  475 |\n",
    "\n",
    "a) La $x$ vere antal år etter 2000, og bruk regresjon til å bestemme\n",
    "  ein lineær funksjon $M$ som kan beskrive utviklinga i perioden\n",
    "  2000-2020.\n",
    "\n",
    "b)  Kva fortel stigingstalet til funksjonen M om den praktiske\n"
   ]
  },
  {
   "cell_type": "markdown",
   "metadata": {},
   "source": []
  },
  {
   "cell_type": "markdown",
   "metadata": {},
   "source": [
    " ### Eksempel 2\n",
    " \n",
    "Arne har sommerjobb som montør i en bedrift som produserer en bestemt type pumper. Han har lagt merke til at arbeidstempoet endrer seg i løpet av dagen. En dag teller han opp annenhver time hvor mange pumper han har montert så langt den dagen. Tabellen nedenfor viser resultatet\n",
    "\n",
    "\n",
    "| Timer jobbet     | 0 | 2  | 4  | 6   | 8   |\n",
    "|:----------------:|--:|---:|---:|----:|----:|\n",
    "| Antall deltakere | 0 | 38 | 93 | 135 | 169 |\n",
    "\n",
    "Bruk regresjon til å lage et tredjegradspolynom $g$ som kan brukes som modell for hvor mange pumper Arne setter sammen i løpet av de $x$ første timene på jobb en dag.\n",
    "\n",
    "\n"
   ]
  },
  {
   "cell_type": "code",
   "execution_count": 4,
   "metadata": {},
   "outputs": [
    {
     "data": {
      "text/plain": [
       "array([-0.26041667,  2.75      , 15.79166667, -0.5       ])"
      ]
     },
     "execution_count": 4,
     "metadata": {},
     "output_type": "execute_result"
    }
   ],
   "source": [
    "import numpy as np\n",
    "import matplotlib.pyplot as plt\n",
    "\n",
    "x = [0, 2, 4, 6, 8]\n",
    "y = [0, 38, 93, 135, 169]\n",
    "\n",
    "L = np.polyfit(x, y, 3)\n",
    "L\n"
   ]
  },
  {
   "cell_type": "markdown",
   "metadata": {},
   "source": [
    "I stedet for å definere tredjegradspolynomet manuelt (L[0]*x**3+...), så kan vi bruke funksjonen np.polyval(p, x). Denne evaluerer alle x-verdiene i en liste x med polynomet p. I vårt tilfelle er x-verdiene i listen X og polynomet er L. "
   ]
  },
  {
   "cell_type": "code",
   "execution_count": 7,
   "metadata": {},
   "outputs": [
    {
     "data": {
      "image/png": "[encoded data removed]",
      "text/plain": [
       "<Figure size 432x288 with 1 Axes>"
      ]
     },
     "metadata": {
      "needs_background": "light"
     },
     "output_type": "display_data"
    }
   ],
   "source": [
    "X = np.linspace(0, 10, 100)\n",
    "\n",
    "plt.scatter(x, y)\n",
    "plt.plot(X, np.polyval(L, X), color=\"g\")\n",
    "plt.xlabel(\"Antall timer jobbet\")\n",
    "plt.ylabel(\"Antall pumper\")\n",
    "plt.grid()\n",
    "plt.show()\n"
   ]
  },
  {
   "cell_type": "markdown",
   "metadata": {},
   "source": [
    "### Oppgave 2\n",
    "\n",
    "En bedrift produserer en bestemt vare. Tabellen nedenfor viser sammenhengen mellom antall\n",
    "produserte enheter av varen per uke og de totale kostnadene.\n",
    "\n",
    "\n",
    "\n",
    "| Antall produserte enhet per uke, $x$ | 80 | 120  | 170   | 330   | 420   | 700    |\n",
    "|:------------------:|------:|------:|------:|------:|------:|-------:|\n",
    "| Totale kostnader i kroner, $K(x)$    |27 000 |31 000 | 36 500|59 000 | 74500 |137 000 |\n",
    "\n",
    "Bestem en andregradsfunksjon $K$ som med god tilnærming kan brukes til å beregne kostnadene $K(x)$. Hva blir kostnadene i en uke der det produseres 220 enheter?\n",
    "\n"
   ]
  },
  {
   "cell_type": "markdown",
   "metadata": {},
   "source": [
    "## scipy.optimize sin curve_fit\n",
    "\n",
    "Dersom du vil bruke andre modeller enn polynomer, så må vi ty til et annet verktøy. Modulen scipy.optimize har den nyttige funksjon curve_fit. Med denne er har du så og si ubegrensede muligheter. "
   ]
  },
  {
   "cell_type": "markdown",
   "metadata": {},
   "source": [
    "### Eksempel 3\n",
    "\n",
    "Vi antar at konsentrasjonen av CO$_2$ i lufta var 280 ppm (parts per million) i året 1800. Siden den gang har konsentrasjonen økt. Tabellen nedenfor viser utviklingen av CO$_2$–konsentrasjonen for noen utvalgte år mellom 1870 og 2000.\n",
    "\n",
    "\n",
    "\n",
    "| År              | 1870 | 1890 | 1930 | 1950 | 1970 | 2000 |\n",
    "|:---------------:|------|------|------|------|------|------|\n",
    "| CO$_2$ konsentrasjon (ppm) | 285  | 287  | 295  | 305  | 325  | 365  |\n",
    "\n",
    "Lag en modell for CO$_2$-konsentrasjonen i lufta $x$ år etter 1870. "
   ]
  },
  {
   "cell_type": "markdown",
   "metadata": {},
   "source": [
    "### Løsning:\n",
    "\n",
    "Et spredningsdiagram vil vise at CO$_2$-konsentrasjonen ser ut til å følge en eksponentiell modell:\n",
    "\n",
    "$$ f(x)=a \\cdot b^x + c $$\n",
    "\n",
    "Det vi gjør er å først imprtere curve_fit (linje 3 nedenfor), og så definerer modellen vi ønsker å bruke (linje 4 og 5). Vi lager da en funksjon med fire variabler (x, a, b, c). Regresjonen skal nå tilpasse a, b og c til dataene (som vi har ført unn på rad 8 og 9). \n",
    "\n",
    "På linje 11 har vi skrevet L, V = curve_fit(f, x, y). Dette gjør vi siden commandoen curve_fit(f, x, y) returnerer to arrayer. Vi kaller disse for L og V. L er en liste bestående av tallene a, b og c, mens V er en liste som inneholder litt statistiske data. "
   ]
  },
  {
   "cell_type": "code",
   "execution_count": 7,
   "metadata": {},
   "outputs": [
    {
     "data": {
      "image/png": "[encoded data removed]",
      "text/plain": [
       "<Figure size 432x288 with 1 Axes>"
      ]
     },
     "metadata": {
      "needs_background": "light"
     },
     "output_type": "display_data"
    }
   ],
   "source": [
    "import matplotlib.pyplot as plt\n",
    "import numpy as np\n",
    "from scipy.optimize import curve_fit\n",
    "\n",
    "def f(x, a, b, c):\n",
    "    return a*b**x + c\n",
    "\n",
    "x = [0, 20, 60, 80, 100, 130]      # x-verdier fra tabellen\n",
    "y = [285, 287, 295, 305, 325, 365] # y-verdier fra tabellen\n",
    "\n",
    "L, V = curve_fit(f, x, y)\n",
    "\n",
    "X = np.linspace(-20, 140)   # x-verdier for plotting\n",
    "Y = f(X, *L)                # y-verdier for plotting\n",
    "plt.scatter(x, y)           # punktene fra tabellen\n",
    "plt.plot(X, Y, color=\"r\")   # Modellen vår\n",
    "plt.show()"
   ]
  },
  {
   "cell_type": "markdown",
   "metadata": {},
   "source": [
    "Vi ser at modellen passer bra. \n",
    "\n",
    "Legg merke til at vi har skrevet *L på linje 14. En stjerne foran en liste eller array vil resultere i at det er verdiene fra listen som blir plukket ut, objekt for objekt. Funksjonen f tar fire arguementer (x, a, b, c). Hadde vi skrivet f(x, L), så hadde vi bare gitt to argumenter. "
   ]
  },
  {
   "cell_type": "markdown",
   "metadata": {},
   "source": [
    "### Eksempel 4\n",
    "\n",
    "Vi viser et eksempel for å illustere hva *L betyr."
   ]
  },
  {
   "cell_type": "code",
   "execution_count": 12,
   "metadata": {},
   "outputs": [
    {
     "name": "stdout",
     "output_type": "stream",
     "text": [
      "Her er listen: [1, 5, 'Hei', -3]\n",
      "Her er elementene i listen: 1 5 Hei -3\n"
     ]
    }
   ],
   "source": [
    "L = [1, 5, \"Hei\", -3]  # Lager en liste med ulike verdier\n",
    "\n",
    "print(\"Her er listen:\", L) # Skriver ut listen\n",
    "\n",
    "print(\"Her er elementene i listen:\", *L) # Skriver ut elementene fra listen\n"
   ]
  },
  {
   "cell_type": "markdown",
   "metadata": {},
   "source": [
    "### Eksempel 5\n",
    "\n",
    "Filen temp.csv inneholder data fra målinger av temperatur i et kar. (https://tork73.github.io/Data_behandling/temp.csv)\n",
    "\n",
    "a) Last inn data fra filen og plott temperaturen som funksjon av tiden.\n",
    "\n",
    "b) Lag en modell for temperaturen ved å bruke regresjon. Plott denne modellen i et koordinatsystem sammen med plottet fra oppgave a). \n",
    "\n",
    "c) Plott den deriverte til temperaturen som funksjon av tiden."
   ]
  },
  {
   "cell_type": "code",
   "execution_count": 22,
   "metadata": {},
   "outputs": [
    {
     "name": "stdout",
     "output_type": "stream",
     "text": [
      "[54.83915916  0.99942834 27.72997518]\n"
     ]
    },
    {
     "data": {
      "image/png": "[encoded data removed]",
      "text/plain": [
       "<Figure size 720x360 with 1 Axes>"
      ]
     },
     "metadata": {
      "needs_background": "light"
     },
     "output_type": "display_data"
    }
   ],
   "source": [
    "import pandas as pd\n",
    "import matplotlib.pyplot as plt\n",
    "import numpy as np\n",
    "from scipy.optimize import curve_fit\n",
    "\n",
    "url = \"https://tork73.github.io/Data_behandling/temp.csv\"\n",
    "df = pd.read_csv(url, index_col=0)\n",
    "\n",
    "def f(x, a, b, c):\n",
    "    return a*b**x + c\n",
    "\n",
    "L, V = curve_fit(f, df[\"Tid\"], df[\"Temp\"])\n",
    "print(L)\n",
    "\n",
    "df.plot(\"Tid\", \"Temp\", kind=\"scatter\", color=\"red\", figsize=(10, 5))\n",
    "plt.plot(df[\"Tid\"], f(df[\"Tid\"], *L))\n",
    "plt.hlines(L[2], 0, 6000, linestyles=\"dashed\")\n",
    "plt.ylim(0, 90)\n",
    "plt.grid()\n",
    "plt.show()\n"
   ]
  },
  {
   "cell_type": "code",
   "execution_count": 25,
   "metadata": {},
   "outputs": [
    {
     "data": {
      "image/png": "[encoded data removed]",
      "text/plain": [
       "<Figure size 432x288 with 1 Axes>"
      ]
     },
     "metadata": {
      "needs_background": "light"
     },
     "output_type": "display_data"
    }
   ],
   "source": [
    "# Så plotter vi den deriverte av modellen og den deriverte ut fra datasettet:\n",
    "\n",
    "D = []      # Lager en tom liste som skal bestå av de ulike stigningetallene fra datasettet\n",
    "Tid = df[\"Tid\"]   # Plukker ut tidene fra datasetet\n",
    "Temp = df[\"Temp\"] # Plukker ut temperaturene fra datasettet\n",
    "\n",
    "for i in range(1, len(Tid)):        # Bestemmer stigningstallene i hvert delintervall\n",
    "    v = (Temp[i+1]-Temp[i])/(Tid[i+1]-Tid[i])\n",
    "    D.append(v)\n",
    "\n",
    "# Lager selve funksjonen (modellen)\n",
    "def F(x):\n",
    "    return f(x, *L)\n",
    "\n",
    "# Den deriverte av funksjonen\n",
    "def dF(x, h=0.00001):\n",
    "    return (F(x+h)-F(x))/h\n",
    "\n",
    "# Plotter dataene: \n",
    "plt.plot(Tid[:-1], D, label=\"Stigningstallene\")   # Plotter stigningstallene\n",
    "plt.plot(Tid, dF(Tid), label=r\"$F'$ \")  # Plotter den deriverte av modellen\n",
    "plt.legend()\n",
    "plt.show()"
   ]
  },
  {
   "cell_type": "markdown",
   "metadata": {},
   "source": [
    "### Oppgave 3\n",
    "\n",
    "Temperaturen i en kopp kaffe blir målt hvert fjerde minutt. Resultatene av\n",
    "  målingene er vist i tabellen nedenfor.\n",
    "  \n",
    "\n",
    "\n",
    "| Tid  | 0  | 4  | 8  | 12 | 16 |\n",
    "|------|----|----|----|----|----|  \n",
    "| Temp | 70 | 53 | 42 | 35 | 30 |\n",
    "\n",
    "Lag et spredningsdiagram av tallene i tabellen og bestem en modell som passer med tallen. \n",
    "\n",
    "Hva er temperaturen i koppen etter 20 minutter ifølge modellen du laget? \n",
    "\n",
    "Hvor lang tid går det før temperaturen er 25 grader ifølge modellen? "
   ]
  }
 ],
 "metadata": {
  "interpreter": {
   "hash": "d99b4b40993aa8bf34081c0eb15f3bf1ce7f31b892d31088c144d89404ac10fe"
  },
  "kernelspec": {
   "display_name": "Python 3.8.3 64-bit ('base': conda)",
   "language": "python",
   "name": "python3"
  },
  "language_info": {
   "codemirror_mode": {
    "name": "ipython",
    "version": 3
   },
   "file_extension": ".py",
   "mimetype": "text/x-python",
   "name": "python",
   "nbconvert_exporter": "python",
   "pygments_lexer": "ipython3",
   "version": "3.8.3"
  },
  "orig_nbformat": 4
 },
 "nbformat": 4,
 "nbformat_minor": 2
}
