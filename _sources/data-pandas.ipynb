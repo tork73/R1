{
 "cells": [
  {
   "cell_type": "markdown",
   "metadata": {},
   "source": [
    "# Dataserier og datarammer\n",
    "\n",
    "Store og små datamengder blir lagret i filer av ulik type. Den mest vanlige filtypen er såkalte csv-filer. Bokstavene csv står for «comma separated values». Skal vi for eksempel laste ned temperaturen gjennom et døgn fra en værstasjon, vil vi ofte få en slik fil. \n",
    "\n",
    "For å laste inn slike filer kan vi bruke en modul som heter pandas. Med denne modulen får vi tilgang på en rekke nye funksjoner og objekter. Vi importerer pandas slik: "
   ]
  },
  {
   "cell_type": "code",
   "execution_count": 1,
   "metadata": {},
   "outputs": [],
   "source": [
    "import pandas as pd"
   ]
  },
  {
   "cell_type": "markdown",
   "metadata": {},
   "source": [
    "Tidligere har vi jobbet med lister og arrayer i Python. Pandas gir oss tilgang på to nye objekter, nemlig dataserier og datarammer. \n",
    "\n",
    "```{admonition} Dataserier og datarammer\n",
    "En dataserie er en 1-dimensjonal array med verier og en indeks\n",
    "\n",
    "En dataramme er en 2-dimensjonal array med både rad- og kolonneindeks.\n",
    "```\n"
   ]
  },
  {
   "cell_type": "markdown",
   "metadata": {},
   "source": [
    "### Eksempel 1\n",
    "\n",
    "Vi ønsker å lage en overisk over hva som er til middag i kantinen de ulike ukedagene. Vi kan da lage en dataserie på følgende måte:"
   ]
  },
  {
   "cell_type": "code",
   "execution_count": 2,
   "metadata": {},
   "outputs": [
    {
     "data": {
      "text/plain": [
       "0       Taco\n",
       "1    Kylling\n",
       "2       Laks\n",
       "3      Pizza\n",
       "4      Pasta\n",
       "dtype: object"
      ]
     },
     "execution_count": 2,
     "metadata": {},
     "output_type": "execute_result"
    }
   ],
   "source": [
    "import pandas as pd\n",
    "\n",
    "S = pd.Series([\"Taco\", \"Kylling\", \"Laks\", \"Pizza\", \"Pasta\"])\n",
    "S"
   ]
  },
  {
   "cell_type": "markdown",
   "metadata": {},
   "source": [
    "Vi ser at vi får listet opp de ulike rettene i rekkefølgen vi skrev dem opp på. Tallene 0, 1, 2, 3, 4 er indeksene. Disse kan vi bruke til å hente ut data fra dataserien. Ønsker vi for eksempel å se hva som var til middag på torsdage, kan vi se hva som står på plass3:"
   ]
  },
  {
   "cell_type": "code",
   "execution_count": 3,
   "metadata": {},
   "outputs": [
    {
     "data": {
      "text/plain": [
       "'Pizza'"
      ]
     },
     "execution_count": 3,
     "metadata": {},
     "output_type": "execute_result"
    }
   ],
   "source": [
    "S[3]"
   ]
  },
  {
   "cell_type": "markdown",
   "metadata": {},
   "source": [
    "Vi kan også bytte ut indeksen med for eksempel ukedagene:"
   ]
  },
  {
   "cell_type": "code",
   "execution_count": 4,
   "metadata": {},
   "outputs": [
    {
     "data": {
      "text/plain": [
       "Mandag        Taco\n",
       "Tisdag     Kylling\n",
       "Onsdag        Laks\n",
       "Torsdag      Pizza\n",
       "Fredag       Pasta\n",
       "dtype: object"
      ]
     },
     "execution_count": 4,
     "metadata": {},
     "output_type": "execute_result"
    }
   ],
   "source": [
    "S.index = [\"Mandag\", \"Tisdag\", \"Onsdag\", \"Torsdag\", \"Fredag\"]\n",
    "S"
   ]
  },
  {
   "cell_type": "markdown",
   "metadata": {},
   "source": [
    "Vi kan også legge til en rad. Vil vi legge til hva som var til middag på lørdagen, skriver vi:"
   ]
  },
  {
   "cell_type": "code",
   "execution_count": 5,
   "metadata": {},
   "outputs": [
    {
     "data": {
      "text/plain": [
       "Mandag        Taco\n",
       "Tisdag     Kylling\n",
       "Onsdag        Laks\n",
       "Torsdag      Pizza\n",
       "Fredag       Pasta\n",
       "Lørdag        Grøt\n",
       "dtype: object"
      ]
     },
     "execution_count": 5,
     "metadata": {},
     "output_type": "execute_result"
    }
   ],
   "source": [
    "S[\"Lørdag\"] = \"Grøt\"\n",
    "S"
   ]
  },
  {
   "cell_type": "markdown",
   "metadata": {},
   "source": [
    "Dersom vi ønsker å legge til kolonner, an vi gjøre dette. Men da må vi bruke datarammer. "
   ]
  },
  {
   "cell_type": "code",
   "execution_count": 6,
   "metadata": {},
   "outputs": [
    {
     "data": {
      "text/html": [
       "<div>\n",
       "<style scoped>\n",
       "    .dataframe tbody tr th:only-of-type {\n",
       "        vertical-align: middle;\n",
       "    }\n",
       "\n",
       "    .dataframe tbody tr th {\n",
       "        vertical-align: top;\n",
       "    }\n",
       "\n",
       "    .dataframe thead th {\n",
       "        text-align: right;\n",
       "    }\n",
       "</style>\n",
       "<table border=\"1\" class=\"dataframe\">\n",
       "  <thead>\n",
       "    <tr style=\"text-align: right;\">\n",
       "      <th></th>\n",
       "      <th>Rett</th>\n",
       "    </tr>\n",
       "  </thead>\n",
       "  <tbody>\n",
       "    <tr>\n",
       "      <th>Mandag</th>\n",
       "      <td>Taco</td>\n",
       "    </tr>\n",
       "    <tr>\n",
       "      <th>Tisdag</th>\n",
       "      <td>Kylling</td>\n",
       "    </tr>\n",
       "    <tr>\n",
       "      <th>Onsdag</th>\n",
       "      <td>Laks</td>\n",
       "    </tr>\n",
       "    <tr>\n",
       "      <th>Torsdag</th>\n",
       "      <td>Pizza</td>\n",
       "    </tr>\n",
       "    <tr>\n",
       "      <th>Fredag</th>\n",
       "      <td>Pasta</td>\n",
       "    </tr>\n",
       "    <tr>\n",
       "      <th>Lørdag</th>\n",
       "      <td>Grøt</td>\n",
       "    </tr>\n",
       "  </tbody>\n",
       "</table>\n",
       "</div>"
      ],
      "text/plain": [
       "            Rett\n",
       "Mandag      Taco\n",
       "Tisdag   Kylling\n",
       "Onsdag      Laks\n",
       "Torsdag    Pizza\n",
       "Fredag     Pasta\n",
       "Lørdag      Grøt"
      ]
     },
     "execution_count": 6,
     "metadata": {},
     "output_type": "execute_result"
    }
   ],
   "source": [
    "# Vi kaller datarammen for df og gir første kolonne navnet \"Rett\":\n",
    "df = pd.DataFrame(S, columns=[\"Rett\"]) \n",
    "df"
   ]
  },
  {
   "cell_type": "markdown",
   "metadata": {},
   "source": [
    "Dersom vi nå vil legge til prisen per rett, legger vil en kolonne med de ulike prisene:"
   ]
  },
  {
   "cell_type": "code",
   "execution_count": 7,
   "metadata": {},
   "outputs": [
    {
     "data": {
      "text/html": [
       "<div>\n",
       "<style scoped>\n",
       "    .dataframe tbody tr th:only-of-type {\n",
       "        vertical-align: middle;\n",
       "    }\n",
       "\n",
       "    .dataframe tbody tr th {\n",
       "        vertical-align: top;\n",
       "    }\n",
       "\n",
       "    .dataframe thead th {\n",
       "        text-align: right;\n",
       "    }\n",
       "</style>\n",
       "<table border=\"1\" class=\"dataframe\">\n",
       "  <thead>\n",
       "    <tr style=\"text-align: right;\">\n",
       "      <th></th>\n",
       "      <th>Rett</th>\n",
       "      <th>Pris</th>\n",
       "    </tr>\n",
       "  </thead>\n",
       "  <tbody>\n",
       "    <tr>\n",
       "      <th>Mandag</th>\n",
       "      <td>Taco</td>\n",
       "      <td>59</td>\n",
       "    </tr>\n",
       "    <tr>\n",
       "      <th>Tisdag</th>\n",
       "      <td>Kylling</td>\n",
       "      <td>65</td>\n",
       "    </tr>\n",
       "    <tr>\n",
       "      <th>Onsdag</th>\n",
       "      <td>Laks</td>\n",
       "      <td>70</td>\n",
       "    </tr>\n",
       "    <tr>\n",
       "      <th>Torsdag</th>\n",
       "      <td>Pizza</td>\n",
       "      <td>85</td>\n",
       "    </tr>\n",
       "    <tr>\n",
       "      <th>Fredag</th>\n",
       "      <td>Pasta</td>\n",
       "      <td>75</td>\n",
       "    </tr>\n",
       "    <tr>\n",
       "      <th>Lørdag</th>\n",
       "      <td>Grøt</td>\n",
       "      <td>55</td>\n",
       "    </tr>\n",
       "  </tbody>\n",
       "</table>\n",
       "</div>"
      ],
      "text/plain": [
       "            Rett  Pris\n",
       "Mandag      Taco    59\n",
       "Tisdag   Kylling    65\n",
       "Onsdag      Laks    70\n",
       "Torsdag    Pizza    85\n",
       "Fredag     Pasta    75\n",
       "Lørdag      Grøt    55"
      ]
     },
     "execution_count": 7,
     "metadata": {},
     "output_type": "execute_result"
    }
   ],
   "source": [
    "df[\"Pris\"]  = [59, 65, 70, 85, 75, 55]\n",
    "df"
   ]
  },
  {
   "cell_type": "markdown",
   "metadata": {},
   "source": [
    "Ønsker vi å utvide kolonnen med antall retter som ble solgt de ulike dagene og hva inntekten ble de ulike dagene, kan vi gjøre det slik:"
   ]
  },
  {
   "cell_type": "code",
   "execution_count": 8,
   "metadata": {},
   "outputs": [],
   "source": [
    "# Lager først en kolonne med antallet:\n",
    "df[\"Antall\"] = [32, 21, 35, 22, 67, 66]\n",
    "\n",
    "# Så lager vi en kolonne som gir pris $\\cdot $ antall:"
   ]
  },
  {
   "cell_type": "code",
   "execution_count": 9,
   "metadata": {},
   "outputs": [
    {
     "data": {
      "text/html": [
       "<div>\n",
       "<style scoped>\n",
       "    .dataframe tbody tr th:only-of-type {\n",
       "        vertical-align: middle;\n",
       "    }\n",
       "\n",
       "    .dataframe tbody tr th {\n",
       "        vertical-align: top;\n",
       "    }\n",
       "\n",
       "    .dataframe thead th {\n",
       "        text-align: right;\n",
       "    }\n",
       "</style>\n",
       "<table border=\"1\" class=\"dataframe\">\n",
       "  <thead>\n",
       "    <tr style=\"text-align: right;\">\n",
       "      <th></th>\n",
       "      <th>Rett</th>\n",
       "      <th>Pris</th>\n",
       "      <th>Antall</th>\n",
       "      <th>Inntekt</th>\n",
       "    </tr>\n",
       "  </thead>\n",
       "  <tbody>\n",
       "    <tr>\n",
       "      <th>Mandag</th>\n",
       "      <td>Taco</td>\n",
       "      <td>59</td>\n",
       "      <td>32</td>\n",
       "      <td>1888</td>\n",
       "    </tr>\n",
       "    <tr>\n",
       "      <th>Tisdag</th>\n",
       "      <td>Kylling</td>\n",
       "      <td>65</td>\n",
       "      <td>21</td>\n",
       "      <td>1365</td>\n",
       "    </tr>\n",
       "    <tr>\n",
       "      <th>Onsdag</th>\n",
       "      <td>Laks</td>\n",
       "      <td>70</td>\n",
       "      <td>35</td>\n",
       "      <td>2450</td>\n",
       "    </tr>\n",
       "    <tr>\n",
       "      <th>Torsdag</th>\n",
       "      <td>Pizza</td>\n",
       "      <td>85</td>\n",
       "      <td>22</td>\n",
       "      <td>1870</td>\n",
       "    </tr>\n",
       "    <tr>\n",
       "      <th>Fredag</th>\n",
       "      <td>Pasta</td>\n",
       "      <td>75</td>\n",
       "      <td>67</td>\n",
       "      <td>5025</td>\n",
       "    </tr>\n",
       "    <tr>\n",
       "      <th>Lørdag</th>\n",
       "      <td>Grøt</td>\n",
       "      <td>55</td>\n",
       "      <td>66</td>\n",
       "      <td>3630</td>\n",
       "    </tr>\n",
       "  </tbody>\n",
       "</table>\n",
       "</div>"
      ],
      "text/plain": [
       "            Rett  Pris  Antall  Inntekt\n",
       "Mandag      Taco    59      32     1888\n",
       "Tisdag   Kylling    65      21     1365\n",
       "Onsdag      Laks    70      35     2450\n",
       "Torsdag    Pizza    85      22     1870\n",
       "Fredag     Pasta    75      67     5025\n",
       "Lørdag      Grøt    55      66     3630"
      ]
     },
     "execution_count": 9,
     "metadata": {},
     "output_type": "execute_result"
    }
   ],
   "source": [
    "df[\"Inntekt\"] = df[\"Pris\"] * df[\"Antall\"]\n",
    "df"
   ]
  },
  {
   "cell_type": "markdown",
   "metadata": {},
   "source": [
    "Til slutt kan vi summere opp tallene i den siste kolonnen. Det kan vi gjøre ved å bruke sum-metoden på kolonnen:"
   ]
  },
  {
   "cell_type": "code",
   "execution_count": 10,
   "metadata": {},
   "outputs": [
    {
     "data": {
      "text/plain": [
       "16228"
      ]
     },
     "execution_count": 10,
     "metadata": {},
     "output_type": "execute_result"
    }
   ],
   "source": [
    "df[\"Inntekt\"].sum()"
   ]
  },
  {
   "cell_type": "markdown",
   "metadata": {},
   "source": [
    "### Oppgave\n",
    "\n",
    "Per, Anders og Line eier en hytte sammen.\n",
    "\n",
    "De skal betale utgiftene til strøm i forhold til hvor mange kilowattimer (kWh) hver av dem bruker. De leser av målerstanden hver gang de kommer til hytta og hver gang de reiser fra hytta. På den måten finner de ut hvor mange kWh hver av dem har brukt.\n",
    "\n",
    "Første halvår 2021 ble forbruket slik (tall i kWh):\n",
    "\n",
    "| Navn   | Målestand ankomst | Målestand avreise | Strømforbruk | Å betale |\n",
    "|--------|------------------:|------------------:|--------------|----------|\n",
    "| Per    | 12759             | 127788            |              |             |\n",
    "| Line   | 127788            | 128129            |              |             |\n",
    "| Anders | 128129            | 128612            |              |             |\n",
    "| Line   | 128612            | 129578            |              |             |\n",
    "\n",
    "Gå ut fra at prisen på 1 kWh er 0,78 øre. \n",
    "\n",
    "Lag en dataramme som regner ut hvor mye hver av dem må betale. \n"
   ]
  }
 ],
 "metadata": {
  "interpreter": {
   "hash": "d99b4b40993aa8bf34081c0eb15f3bf1ce7f31b892d31088c144d89404ac10fe"
  },
  "kernelspec": {
   "display_name": "Python 3.8.3 64-bit ('base': conda)",
   "language": "python",
   "name": "python3"
  },
  "language_info": {
   "codemirror_mode": {
    "name": "ipython",
    "version": 3
   },
   "file_extension": ".py",
   "mimetype": "text/x-python",
   "name": "python",
   "nbconvert_exporter": "python",
   "pygments_lexer": "ipython3",
   "version": "3.8.3"
  },
  "orig_nbformat": 4
 },
 "nbformat": 4,
 "nbformat_minor": 2
}
