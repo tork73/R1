{
 "cells": [
  {
   "cell_type": "markdown",
   "metadata": {},
   "source": [
    "# Installasjon av Python\n",
    "\n",
    "Vi anbefaler å laste ned Anaconda på din datamaskin. Med Anaconda får du det meste av det du trenger for å programmere. \n",
    "\n",
    "Du finner Anaconda her: https://www.anaconda.com/products/individual \n",
    "\n",
    "![anaconda](anaconda.png)\n",
    "\n",
    "Når du har installert Anaconda kan du åpne Anaconda navigator. Der finner du en rekke program som kan brukes. Noen liker å bruke Spyder, andre liker å bruke Jypyter lab. Vi vil i R1 bruke sistnevnte. \n",
    "\n",
    "Når du starter Jupyter lab vil du få mulighet til å lagen en ny «Notebook». Før du klikker på denne (3), er det lurt å bla seg gjennom til den mappen du ønsker å lagre notebook-en. (2). Det gjør du ved å først klikke på mappen øverst i margen til venstre (1). \n",
    "\n",
    "![mappe](mapper-jupyter.png)"
   ]
  },
  {
   "cell_type": "markdown",
   "metadata": {},
   "source": [
    "Når du så har åpnet en slik notebook, er du klar til å programmere. I Jupyter lab fungerer det slik at du skriver inn koden i ulike celler. Disse kan du så «kjøre». Det vil si at du kan be Python lese koden. Output (resultatet av kjøringen) vil da komme fram like nedenfor cellen:"
   ]
  },
  {
   "cell_type": "code",
   "execution_count": 1,
   "metadata": {},
   "outputs": [
    {
     "name": "stdout",
     "output_type": "stream",
     "text": [
      "3\n"
     ]
    }
   ],
   "source": [
    "a = 1\n",
    "b = 2\n",
    "c = a+b\n",
    "print(c)"
   ]
  },
  {
   "cell_type": "markdown",
   "metadata": {},
   "source": [
    "I cellen over har vi laget et veldig enkelt program. Det første som skjer er at det blir laget tre variabler, a, b og c. Variabelen c er summen av a og b. På den fjerde linjen skriver vi ut verdien til c på skjermen. Trykker vi på «play»-knappen (eller ctrl-enter) vil koden fra cellen blir kjørt og du får resultatet nedenfor cellen. "
   ]
  },
  {
   "cell_type": "markdown",
   "metadata": {},
   "source": [
    "Det fine med Jupyter lab er at du ikke trenger å lagre underveis. Det skjer automatisk. Men det kan være en god idé å endre navnet til jupyter-filen til noe som er mer dekkende for det du gjør i notebook-en. \n",
    "\n",
    "Du kan endre navn ved å høyreklikke på filnavnet i margen til venstre. "
   ]
  },
  {
   "cell_type": "markdown",
   "metadata": {},
   "source": []
  }
 ],
 "metadata": {
  "interpreter": {
   "hash": "d99b4b40993aa8bf34081c0eb15f3bf1ce7f31b892d31088c144d89404ac10fe"
  },
  "kernelspec": {
   "display_name": "Python 3.8.3 64-bit ('base': conda)",
   "language": "python",
   "name": "python3"
  },
  "language_info": {
   "codemirror_mode": {
    "name": "ipython",
    "version": 3
   },
   "file_extension": ".py",
   "mimetype": "text/x-python",
   "name": "python",
   "nbconvert_exporter": "python",
   "pygments_lexer": "ipython3",
   "version": "3.8.3"
  },
  "orig_nbformat": 4
 },
 "nbformat": 4,
 "nbformat_minor": 2
}
