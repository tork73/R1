{
 "cells": [
  {
   "cell_type": "markdown",
   "metadata": {},
   "source": [
    "# Løsning av likninger med Python\n",
    "\n",
    "Noen likninger kan vi lett løse ved å bruke ulike algebraiske regneregler. Vi kan for eksempel lett løse en andregradslikning ved å bruke abc-formelen. Men ofte møter vi likninger som vi ikke klarer å løse med vanlige metoder. Vi kan da løse dem numerisk.  Vi skal her vise ulike strategier for å løse en likning numerisk. "
   ]
  },
  {
   "cell_type": "markdown",
   "metadata": {},
   "source": [
    "## Eksempel 1\n",
    "\n",
    "Løs likningen $3000\\cdot 1.018^x = 5000$. \n",
    "\n",
    "__Løsning:__\n",
    "\n",
    "Siden vi vet at funksjonen $f(x)=3000\\cdot 1.018^x$ er voksende, så kan likningen kun ha én løsning. Vi starter med $x=1$, sjekker om $f(1)=5000$. Hvis ikke, øker vi verdien til $x$ helt til vi når 5000. Vi vil med andre ord bruke en While-løkke. "
   ]
  },
  {
   "cell_type": "code",
   "execution_count": 3,
   "metadata": {},
   "outputs": [
    {
     "name": "stdout",
     "output_type": "stream",
     "text": [
      "Det tar 28.63 år før beløpet er 5000\n"
     ]
    }
   ],
   "source": [
    "def f(x):\n",
    "    return 3000*1.018**x  # Lager funksjonen, så blir det mindre å skrive senere\n",
    "\n",
    "x = 1   # Vår startverdi. Brukes i while-løkken\n",
    "\n",
    "while f(x) < 5000:   # Så lenge f(x) er mindre enn 5000... \n",
    "    x = x + 0.001    # øker x med 0.001\n",
    "\n",
    "print(f\"Det tar {x:.2f} år før beløpet er 5000\")"
   ]
  },
  {
   "cell_type": "code",
   "execution_count": null,
   "metadata": {},
   "outputs": [],
   "source": []
  }
 ],
 "metadata": {
  "interpreter": {
   "hash": "d99b4b40993aa8bf34081c0eb15f3bf1ce7f31b892d31088c144d89404ac10fe"
  },
  "kernelspec": {
   "display_name": "Python 3.8.3 64-bit ('base': conda)",
   "language": "python",
   "name": "python3"
  },
  "language_info": {
   "codemirror_mode": {
    "name": "ipython",
    "version": 3
   },
   "file_extension": ".py",
   "mimetype": "text/x-python",
   "name": "python",
   "nbconvert_exporter": "python",
   "pygments_lexer": "ipython3",
   "version": "3.8.3"
  },
  "orig_nbformat": 4
 },
 "nbformat": 4,
 "nbformat_minor": 2
}
